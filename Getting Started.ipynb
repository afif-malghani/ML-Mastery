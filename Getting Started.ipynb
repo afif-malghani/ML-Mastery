{
 "cells": [
  {
   "cell_type": "markdown",
   "id": "33a20e06",
   "metadata": {},
   "source": [
    "# <center>Getting Started with ML</center>"
   ]
  },
  {
   "cell_type": "markdown",
   "id": "6ed121a0",
   "metadata": {},
   "source": [
    "# What is Machine Learning?"
   ]
  },
  {
   "cell_type": "markdown",
   "id": "f4520a86",
   "metadata": {},
   "source": [
    "The field of machine learning is concerned with the question of how to construct computer programs that automatically improve with experience."
   ]
  },
  {
   "cell_type": "markdown",
   "id": "1ad531ce",
   "metadata": {},
   "source": [
    "# What is Artificial Intelligence?"
   ]
  },
  {
   "cell_type": "markdown",
   "id": "4aef81e3",
   "metadata": {},
   "source": [
    "Machine Learining is a subfield of Artificial Intelligence or AI for short.\n",
    "\n",
    "AI does involve learning but may also contain components which serve the purpose of reasoning, planning, memory, decision making, and much more"
   ]
  },
  {
   "cell_type": "markdown",
   "id": "e22f6e43",
   "metadata": {},
   "source": [
    "# What is Statistics?"
   ]
  },
  {
   "cell_type": "markdown",
   "id": "7bc6dcf2",
   "metadata": {},
   "source": [
    "Statistics, or applied statistics with computers, is a sub-field of mathematics that is concerned with describing and understanding the relationships in data."
   ]
  },
  {
   "cell_type": "markdown",
   "id": "5a29e33d",
   "metadata": {},
   "source": [
    "# How do Statistics, Machine Learing and Artificial Intelligence relate to each other?"
   ]
  },
  {
   "cell_type": "markdown",
   "id": "ef2f39c1",
   "metadata": {},
   "source": [
    "Statistics is a useful tool in understanding patterns in data and is therefore utilized in machine learning almost all the time. Almost. It is useful in picking out patterns in structured as well as unstructured data, such patterns can be used to classify a data example or derive predictions based on the historical trend/pattern.\n",
    "\n",
    "Just like statistics is an important and integreal part of Machine Learning, so is Machine Learning of Artificial Intelligence. An AI agent relies on the information it has and Machine Learing comes in handy at this stage. Machine Learning can provide amazing details about the environment of the AI agent and is also capabe of picking out the things that matter the most."
   ]
  },
  {
   "cell_type": "markdown",
   "id": "ff618452",
   "metadata": {},
   "source": [
    "## ML Practitioner vs Academic"
   ]
  },
  {
   "cell_type": "markdown",
   "id": "3eb990fb",
   "metadata": {},
   "source": [
    "There are very important dicinctions between an ML academic and a prectitioners.\n",
    "\n",
    "An ML academic is interested in:\n",
    "- Investigating an esoteric type of learning as in machine learning.\n",
    "- Learning more about why variables relate to each other in data as in statistics.\n",
    "- Investigating the capabilities of an algorithm.\n",
    "- Developing an entirely new theory or algorithm.\n",
    "- Extending an existing machine learning algorithm to new cases.\n",
    "\n",
    "Whereas a practitioner is focused on:\n",
    "- Applying the Machine Learing tools and techniques to solve business problems.\n",
    "- Quick prototyping of the aforementioned solution and scale it for production."
   ]
  },
  {
   "cell_type": "code",
   "execution_count": null,
   "id": "6f53e8a0",
   "metadata": {},
   "outputs": [],
   "source": []
  }
 ],
 "metadata": {
  "kernelspec": {
   "display_name": "Python 3 (ipykernel)",
   "language": "python",
   "name": "python3"
  },
  "language_info": {
   "codemirror_mode": {
    "name": "ipython",
    "version": 3
   },
   "file_extension": ".py",
   "mimetype": "text/x-python",
   "name": "python",
   "nbconvert_exporter": "python",
   "pygments_lexer": "ipython3",
   "version": "3.10.4"
  }
 },
 "nbformat": 4,
 "nbformat_minor": 5
}
